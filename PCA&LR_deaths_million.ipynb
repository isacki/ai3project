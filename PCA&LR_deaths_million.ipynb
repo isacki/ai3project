{
  "nbformat": 4,
  "nbformat_minor": 0,
  "metadata": {
    "colab": {
      "name": "PCA&LR_deaths/million",
      "provenance": [],
      "collapsed_sections": [],
      "include_colab_link": true
    },
    "kernelspec": {
      "display_name": "Python 3",
      "language": "python",
      "name": "python3"
    },
    "language_info": {
      "codemirror_mode": {
        "name": "ipython",
        "version": 3
      },
      "file_extension": ".py",
      "mimetype": "text/x-python",
      "name": "python",
      "nbconvert_exporter": "python",
      "pygments_lexer": "ipython3",
      "version": "3.6.5"
    }
  },
  "cells": [
    {
      "cell_type": "markdown",
      "metadata": {
        "id": "view-in-github",
        "colab_type": "text"
      },
      "source": [
        "<a href=\"https://colab.research.google.com/github/isacki/ai3project/blob/master/PCA%26LR_deaths_million.ipynb\" target=\"_parent\"><img src=\"https://colab.research.google.com/assets/colab-badge.svg\" alt=\"Open In Colab\"/></a>"
      ]
    },
    {
      "cell_type": "markdown",
      "metadata": {
        "id": "8NczWmsfgR-t",
        "colab_type": "text"
      },
      "source": [
        "[![Open In Colab](https://colab.research.google.com/assets/colab-badge.svg)](http://colab.research.google.com/github/isacki/ai3project/blob/master/explore_nans.ipynb)"
      ]
    },
    {
      "cell_type": "code",
      "metadata": {
        "colab_type": "code",
        "id": "qxtyXL9YNEaJ",
        "colab": {}
      },
      "source": [
        "import numpy as np\n",
        "import matplotlib.pyplot as plt\n",
        "import matplotlib.dates as mdate\n",
        "import pandas as pd\n",
        "import ipywidgets as widgets\n",
        "from ipywidgets import interact\n",
        "import os"
      ],
      "execution_count": 13,
      "outputs": []
    },
    {
      "cell_type": "markdown",
      "metadata": {
        "colab_type": "text",
        "id": "oPssuexJR8Jp"
      },
      "source": [
        "Download fixed data from a shared folder so that we all use the same data."
      ]
    },
    {
      "cell_type": "code",
      "metadata": {
        "colab_type": "code",
        "id": "pMigreO-NMlQ",
        "colab": {
          "base_uri": "https://localhost:8080/",
          "height": 103
        },
        "outputId": "c4960c90-2c8b-471f-ee30-0bec691b7cab"
      },
      "source": [
        "# Download data\n",
        "import gdown\n",
        "work_dir = os.path.abspath(\"/content\")\n",
        "work_file = os.path.join(work_dir, \"owid-covid-data.csv\")\n",
        "data_file_link = \"https://drive.google.com/uc?id=1zWIKCrWWeEGjEe5Q88i21Lu9Cet_TzdQ\"\n",
        "gdown.download(data_file_link, work_file, quiet=False)"
      ],
      "execution_count": 14,
      "outputs": [
        {
          "output_type": "stream",
          "text": [
            "Downloading...\n",
            "From: https://drive.google.com/uc?id=1zWIKCrWWeEGjEe5Q88i21Lu9Cet_TzdQ\n",
            "To: /content/owid-covid-data.csv\n",
            "5.71MB [00:00, 60.3MB/s]\n"
          ],
          "name": "stderr"
        },
        {
          "output_type": "execute_result",
          "data": {
            "application/vnd.google.colaboratory.intrinsic+json": {
              "type": "string"
            },
            "text/plain": [
              "'/content/owid-covid-data.csv'"
            ]
          },
          "metadata": {
            "tags": []
          },
          "execution_count": 14
        }
      ]
    },
    {
      "cell_type": "code",
      "metadata": {
        "colab_type": "code",
        "id": "vZ7mB4IRNEaO",
        "colab": {
          "base_uri": "https://localhost:8080/",
          "height": 309
        },
        "outputId": "7a90391e-e8c1-4f9d-cd10-925ffdc6b8c3"
      },
      "source": [
        "infname = \"owid-covid-data.csv\"\n",
        "indata = pd.read_csv(infname)\n",
        "type(indata)\n",
        "indata.head()"
      ],
      "execution_count": 15,
      "outputs": [
        {
          "output_type": "execute_result",
          "data": {
            "text/html": [
              "<div>\n",
              "<style scoped>\n",
              "    .dataframe tbody tr th:only-of-type {\n",
              "        vertical-align: middle;\n",
              "    }\n",
              "\n",
              "    .dataframe tbody tr th {\n",
              "        vertical-align: top;\n",
              "    }\n",
              "\n",
              "    .dataframe thead th {\n",
              "        text-align: right;\n",
              "    }\n",
              "</style>\n",
              "<table border=\"1\" class=\"dataframe\">\n",
              "  <thead>\n",
              "    <tr style=\"text-align: right;\">\n",
              "      <th></th>\n",
              "      <th>iso_code</th>\n",
              "      <th>continent</th>\n",
              "      <th>location</th>\n",
              "      <th>date</th>\n",
              "      <th>total_cases</th>\n",
              "      <th>new_cases</th>\n",
              "      <th>total_deaths</th>\n",
              "      <th>new_deaths</th>\n",
              "      <th>total_cases_per_million</th>\n",
              "      <th>new_cases_per_million</th>\n",
              "      <th>total_deaths_per_million</th>\n",
              "      <th>new_deaths_per_million</th>\n",
              "      <th>total_tests</th>\n",
              "      <th>new_tests</th>\n",
              "      <th>total_tests_per_thousand</th>\n",
              "      <th>new_tests_per_thousand</th>\n",
              "      <th>new_tests_smoothed</th>\n",
              "      <th>new_tests_smoothed_per_thousand</th>\n",
              "      <th>tests_units</th>\n",
              "      <th>stringency_index</th>\n",
              "      <th>population</th>\n",
              "      <th>population_density</th>\n",
              "      <th>median_age</th>\n",
              "      <th>aged_65_older</th>\n",
              "      <th>aged_70_older</th>\n",
              "      <th>gdp_per_capita</th>\n",
              "      <th>extreme_poverty</th>\n",
              "      <th>cardiovasc_death_rate</th>\n",
              "      <th>diabetes_prevalence</th>\n",
              "      <th>female_smokers</th>\n",
              "      <th>male_smokers</th>\n",
              "      <th>handwashing_facilities</th>\n",
              "      <th>hospital_beds_per_thousand</th>\n",
              "      <th>life_expectancy</th>\n",
              "    </tr>\n",
              "  </thead>\n",
              "  <tbody>\n",
              "    <tr>\n",
              "      <th>0</th>\n",
              "      <td>AFG</td>\n",
              "      <td>Asia</td>\n",
              "      <td>Afghanistan</td>\n",
              "      <td>2019-12-31</td>\n",
              "      <td>0.0</td>\n",
              "      <td>0.0</td>\n",
              "      <td>0.0</td>\n",
              "      <td>0.0</td>\n",
              "      <td>0.0</td>\n",
              "      <td>0.0</td>\n",
              "      <td>0.0</td>\n",
              "      <td>0.0</td>\n",
              "      <td>NaN</td>\n",
              "      <td>NaN</td>\n",
              "      <td>NaN</td>\n",
              "      <td>NaN</td>\n",
              "      <td>NaN</td>\n",
              "      <td>NaN</td>\n",
              "      <td>NaN</td>\n",
              "      <td>NaN</td>\n",
              "      <td>38928341.0</td>\n",
              "      <td>54.422</td>\n",
              "      <td>18.6</td>\n",
              "      <td>2.581</td>\n",
              "      <td>1.337</td>\n",
              "      <td>1803.987</td>\n",
              "      <td>NaN</td>\n",
              "      <td>597.029</td>\n",
              "      <td>9.59</td>\n",
              "      <td>NaN</td>\n",
              "      <td>NaN</td>\n",
              "      <td>37.746</td>\n",
              "      <td>0.5</td>\n",
              "      <td>64.83</td>\n",
              "    </tr>\n",
              "    <tr>\n",
              "      <th>1</th>\n",
              "      <td>AFG</td>\n",
              "      <td>Asia</td>\n",
              "      <td>Afghanistan</td>\n",
              "      <td>2020-01-01</td>\n",
              "      <td>0.0</td>\n",
              "      <td>0.0</td>\n",
              "      <td>0.0</td>\n",
              "      <td>0.0</td>\n",
              "      <td>0.0</td>\n",
              "      <td>0.0</td>\n",
              "      <td>0.0</td>\n",
              "      <td>0.0</td>\n",
              "      <td>NaN</td>\n",
              "      <td>NaN</td>\n",
              "      <td>NaN</td>\n",
              "      <td>NaN</td>\n",
              "      <td>NaN</td>\n",
              "      <td>NaN</td>\n",
              "      <td>NaN</td>\n",
              "      <td>0.0</td>\n",
              "      <td>38928341.0</td>\n",
              "      <td>54.422</td>\n",
              "      <td>18.6</td>\n",
              "      <td>2.581</td>\n",
              "      <td>1.337</td>\n",
              "      <td>1803.987</td>\n",
              "      <td>NaN</td>\n",
              "      <td>597.029</td>\n",
              "      <td>9.59</td>\n",
              "      <td>NaN</td>\n",
              "      <td>NaN</td>\n",
              "      <td>37.746</td>\n",
              "      <td>0.5</td>\n",
              "      <td>64.83</td>\n",
              "    </tr>\n",
              "    <tr>\n",
              "      <th>2</th>\n",
              "      <td>AFG</td>\n",
              "      <td>Asia</td>\n",
              "      <td>Afghanistan</td>\n",
              "      <td>2020-01-02</td>\n",
              "      <td>0.0</td>\n",
              "      <td>0.0</td>\n",
              "      <td>0.0</td>\n",
              "      <td>0.0</td>\n",
              "      <td>0.0</td>\n",
              "      <td>0.0</td>\n",
              "      <td>0.0</td>\n",
              "      <td>0.0</td>\n",
              "      <td>NaN</td>\n",
              "      <td>NaN</td>\n",
              "      <td>NaN</td>\n",
              "      <td>NaN</td>\n",
              "      <td>NaN</td>\n",
              "      <td>NaN</td>\n",
              "      <td>NaN</td>\n",
              "      <td>0.0</td>\n",
              "      <td>38928341.0</td>\n",
              "      <td>54.422</td>\n",
              "      <td>18.6</td>\n",
              "      <td>2.581</td>\n",
              "      <td>1.337</td>\n",
              "      <td>1803.987</td>\n",
              "      <td>NaN</td>\n",
              "      <td>597.029</td>\n",
              "      <td>9.59</td>\n",
              "      <td>NaN</td>\n",
              "      <td>NaN</td>\n",
              "      <td>37.746</td>\n",
              "      <td>0.5</td>\n",
              "      <td>64.83</td>\n",
              "    </tr>\n",
              "    <tr>\n",
              "      <th>3</th>\n",
              "      <td>AFG</td>\n",
              "      <td>Asia</td>\n",
              "      <td>Afghanistan</td>\n",
              "      <td>2020-01-03</td>\n",
              "      <td>0.0</td>\n",
              "      <td>0.0</td>\n",
              "      <td>0.0</td>\n",
              "      <td>0.0</td>\n",
              "      <td>0.0</td>\n",
              "      <td>0.0</td>\n",
              "      <td>0.0</td>\n",
              "      <td>0.0</td>\n",
              "      <td>NaN</td>\n",
              "      <td>NaN</td>\n",
              "      <td>NaN</td>\n",
              "      <td>NaN</td>\n",
              "      <td>NaN</td>\n",
              "      <td>NaN</td>\n",
              "      <td>NaN</td>\n",
              "      <td>0.0</td>\n",
              "      <td>38928341.0</td>\n",
              "      <td>54.422</td>\n",
              "      <td>18.6</td>\n",
              "      <td>2.581</td>\n",
              "      <td>1.337</td>\n",
              "      <td>1803.987</td>\n",
              "      <td>NaN</td>\n",
              "      <td>597.029</td>\n",
              "      <td>9.59</td>\n",
              "      <td>NaN</td>\n",
              "      <td>NaN</td>\n",
              "      <td>37.746</td>\n",
              "      <td>0.5</td>\n",
              "      <td>64.83</td>\n",
              "    </tr>\n",
              "    <tr>\n",
              "      <th>4</th>\n",
              "      <td>AFG</td>\n",
              "      <td>Asia</td>\n",
              "      <td>Afghanistan</td>\n",
              "      <td>2020-01-04</td>\n",
              "      <td>0.0</td>\n",
              "      <td>0.0</td>\n",
              "      <td>0.0</td>\n",
              "      <td>0.0</td>\n",
              "      <td>0.0</td>\n",
              "      <td>0.0</td>\n",
              "      <td>0.0</td>\n",
              "      <td>0.0</td>\n",
              "      <td>NaN</td>\n",
              "      <td>NaN</td>\n",
              "      <td>NaN</td>\n",
              "      <td>NaN</td>\n",
              "      <td>NaN</td>\n",
              "      <td>NaN</td>\n",
              "      <td>NaN</td>\n",
              "      <td>0.0</td>\n",
              "      <td>38928341.0</td>\n",
              "      <td>54.422</td>\n",
              "      <td>18.6</td>\n",
              "      <td>2.581</td>\n",
              "      <td>1.337</td>\n",
              "      <td>1803.987</td>\n",
              "      <td>NaN</td>\n",
              "      <td>597.029</td>\n",
              "      <td>9.59</td>\n",
              "      <td>NaN</td>\n",
              "      <td>NaN</td>\n",
              "      <td>37.746</td>\n",
              "      <td>0.5</td>\n",
              "      <td>64.83</td>\n",
              "    </tr>\n",
              "  </tbody>\n",
              "</table>\n",
              "</div>"
            ],
            "text/plain": [
              "  iso_code continent  ... hospital_beds_per_thousand life_expectancy\n",
              "0      AFG      Asia  ...                        0.5           64.83\n",
              "1      AFG      Asia  ...                        0.5           64.83\n",
              "2      AFG      Asia  ...                        0.5           64.83\n",
              "3      AFG      Asia  ...                        0.5           64.83\n",
              "4      AFG      Asia  ...                        0.5           64.83\n",
              "\n",
              "[5 rows x 34 columns]"
            ]
          },
          "metadata": {
            "tags": []
          },
          "execution_count": 15
        }
      ]
    },
    {
      "cell_type": "markdown",
      "metadata": {
        "colab_type": "text",
        "id": "mzcFOJ_TNEaQ"
      },
      "source": [
        "Basic information about the dataset:"
      ]
    },
    {
      "cell_type": "code",
      "metadata": {
        "colab_type": "code",
        "id": "W7A8t3gJNEaR",
        "colab": {
          "base_uri": "https://localhost:8080/",
          "height": 255
        },
        "outputId": "cecbfbbe-5cf1-4098-c741-e5d01d73dd8e"
      },
      "source": [
        "print(\"Shape of original data: \" + str(indata.shape))\n",
        "print(\"Columns of original data: \")\n",
        "print(indata.columns)"
      ],
      "execution_count": 16,
      "outputs": [
        {
          "output_type": "stream",
          "text": [
            "Shape of original data: (31705, 34)\n",
            "Columns of original data: \n",
            "Index(['iso_code', 'continent', 'location', 'date', 'total_cases', 'new_cases',\n",
            "       'total_deaths', 'new_deaths', 'total_cases_per_million',\n",
            "       'new_cases_per_million', 'total_deaths_per_million',\n",
            "       'new_deaths_per_million', 'total_tests', 'new_tests',\n",
            "       'total_tests_per_thousand', 'new_tests_per_thousand',\n",
            "       'new_tests_smoothed', 'new_tests_smoothed_per_thousand', 'tests_units',\n",
            "       'stringency_index', 'population', 'population_density', 'median_age',\n",
            "       'aged_65_older', 'aged_70_older', 'gdp_per_capita', 'extreme_poverty',\n",
            "       'cardiovasc_death_rate', 'diabetes_prevalence', 'female_smokers',\n",
            "       'male_smokers', 'handwashing_facilities', 'hospital_beds_per_thousand',\n",
            "       'life_expectancy'],\n",
            "      dtype='object')\n"
          ],
          "name": "stdout"
        }
      ]
    },
    {
      "cell_type": "code",
      "metadata": {
        "id": "7zcQDsOApfuP",
        "colab_type": "code",
        "colab": {
          "base_uri": "https://localhost:8080/",
          "height": 309
        },
        "outputId": "071bc5ba-06f5-4aa8-a961-7757f62ae10b"
      },
      "source": [
        "#20-7-2020 data\n",
        "df=indata\n",
        "df[\"date\"] = pd.to_datetime(df[\"date\"], format=\"%Y-%m-%d\")\n",
        "#print(df[\"date\"])\n",
        "df = df.loc[df['date'] == '2020-07-10']\n",
        "df.head()"
      ],
      "execution_count": 17,
      "outputs": [
        {
          "output_type": "execute_result",
          "data": {
            "text/html": [
              "<div>\n",
              "<style scoped>\n",
              "    .dataframe tbody tr th:only-of-type {\n",
              "        vertical-align: middle;\n",
              "    }\n",
              "\n",
              "    .dataframe tbody tr th {\n",
              "        vertical-align: top;\n",
              "    }\n",
              "\n",
              "    .dataframe thead th {\n",
              "        text-align: right;\n",
              "    }\n",
              "</style>\n",
              "<table border=\"1\" class=\"dataframe\">\n",
              "  <thead>\n",
              "    <tr style=\"text-align: right;\">\n",
              "      <th></th>\n",
              "      <th>iso_code</th>\n",
              "      <th>continent</th>\n",
              "      <th>location</th>\n",
              "      <th>date</th>\n",
              "      <th>total_cases</th>\n",
              "      <th>new_cases</th>\n",
              "      <th>total_deaths</th>\n",
              "      <th>new_deaths</th>\n",
              "      <th>total_cases_per_million</th>\n",
              "      <th>new_cases_per_million</th>\n",
              "      <th>total_deaths_per_million</th>\n",
              "      <th>new_deaths_per_million</th>\n",
              "      <th>total_tests</th>\n",
              "      <th>new_tests</th>\n",
              "      <th>total_tests_per_thousand</th>\n",
              "      <th>new_tests_per_thousand</th>\n",
              "      <th>new_tests_smoothed</th>\n",
              "      <th>new_tests_smoothed_per_thousand</th>\n",
              "      <th>tests_units</th>\n",
              "      <th>stringency_index</th>\n",
              "      <th>population</th>\n",
              "      <th>population_density</th>\n",
              "      <th>median_age</th>\n",
              "      <th>aged_65_older</th>\n",
              "      <th>aged_70_older</th>\n",
              "      <th>gdp_per_capita</th>\n",
              "      <th>extreme_poverty</th>\n",
              "      <th>cardiovasc_death_rate</th>\n",
              "      <th>diabetes_prevalence</th>\n",
              "      <th>female_smokers</th>\n",
              "      <th>male_smokers</th>\n",
              "      <th>handwashing_facilities</th>\n",
              "      <th>hospital_beds_per_thousand</th>\n",
              "      <th>life_expectancy</th>\n",
              "    </tr>\n",
              "  </thead>\n",
              "  <tbody>\n",
              "    <tr>\n",
              "      <th>182</th>\n",
              "      <td>AFG</td>\n",
              "      <td>Asia</td>\n",
              "      <td>Afghanistan</td>\n",
              "      <td>2020-07-10</td>\n",
              "      <td>33908.0</td>\n",
              "      <td>255.0</td>\n",
              "      <td>957.0</td>\n",
              "      <td>20.0</td>\n",
              "      <td>871.036</td>\n",
              "      <td>6.550</td>\n",
              "      <td>24.584</td>\n",
              "      <td>0.514</td>\n",
              "      <td>NaN</td>\n",
              "      <td>NaN</td>\n",
              "      <td>NaN</td>\n",
              "      <td>NaN</td>\n",
              "      <td>NaN</td>\n",
              "      <td>NaN</td>\n",
              "      <td>NaN</td>\n",
              "      <td>NaN</td>\n",
              "      <td>38928341.0</td>\n",
              "      <td>54.422</td>\n",
              "      <td>18.6</td>\n",
              "      <td>2.581</td>\n",
              "      <td>1.337</td>\n",
              "      <td>1803.987</td>\n",
              "      <td>NaN</td>\n",
              "      <td>597.029</td>\n",
              "      <td>9.59</td>\n",
              "      <td>NaN</td>\n",
              "      <td>NaN</td>\n",
              "      <td>37.746</td>\n",
              "      <td>0.50</td>\n",
              "      <td>64.83</td>\n",
              "    </tr>\n",
              "    <tr>\n",
              "      <th>317</th>\n",
              "      <td>ALB</td>\n",
              "      <td>Europe</td>\n",
              "      <td>Albania</td>\n",
              "      <td>2020-07-10</td>\n",
              "      <td>3188.0</td>\n",
              "      <td>82.0</td>\n",
              "      <td>83.0</td>\n",
              "      <td>0.0</td>\n",
              "      <td>1107.791</td>\n",
              "      <td>28.494</td>\n",
              "      <td>28.841</td>\n",
              "      <td>0.000</td>\n",
              "      <td>NaN</td>\n",
              "      <td>NaN</td>\n",
              "      <td>NaN</td>\n",
              "      <td>NaN</td>\n",
              "      <td>NaN</td>\n",
              "      <td>NaN</td>\n",
              "      <td>NaN</td>\n",
              "      <td>59.26</td>\n",
              "      <td>2877800.0</td>\n",
              "      <td>104.871</td>\n",
              "      <td>38.0</td>\n",
              "      <td>13.188</td>\n",
              "      <td>8.643</td>\n",
              "      <td>11803.431</td>\n",
              "      <td>1.1</td>\n",
              "      <td>304.195</td>\n",
              "      <td>10.08</td>\n",
              "      <td>7.1</td>\n",
              "      <td>51.2</td>\n",
              "      <td>NaN</td>\n",
              "      <td>2.89</td>\n",
              "      <td>78.57</td>\n",
              "    </tr>\n",
              "    <tr>\n",
              "      <th>516</th>\n",
              "      <td>DZA</td>\n",
              "      <td>Africa</td>\n",
              "      <td>Algeria</td>\n",
              "      <td>2020-07-10</td>\n",
              "      <td>17808.0</td>\n",
              "      <td>460.0</td>\n",
              "      <td>988.0</td>\n",
              "      <td>10.0</td>\n",
              "      <td>406.102</td>\n",
              "      <td>10.490</td>\n",
              "      <td>22.531</td>\n",
              "      <td>0.228</td>\n",
              "      <td>NaN</td>\n",
              "      <td>NaN</td>\n",
              "      <td>NaN</td>\n",
              "      <td>NaN</td>\n",
              "      <td>NaN</td>\n",
              "      <td>NaN</td>\n",
              "      <td>NaN</td>\n",
              "      <td>74.07</td>\n",
              "      <td>43851043.0</td>\n",
              "      <td>17.348</td>\n",
              "      <td>29.1</td>\n",
              "      <td>6.211</td>\n",
              "      <td>3.857</td>\n",
              "      <td>13913.839</td>\n",
              "      <td>0.5</td>\n",
              "      <td>278.364</td>\n",
              "      <td>6.73</td>\n",
              "      <td>0.7</td>\n",
              "      <td>30.4</td>\n",
              "      <td>83.741</td>\n",
              "      <td>1.90</td>\n",
              "      <td>76.88</td>\n",
              "    </tr>\n",
              "    <tr>\n",
              "      <th>646</th>\n",
              "      <td>AND</td>\n",
              "      <td>Europe</td>\n",
              "      <td>Andorra</td>\n",
              "      <td>2020-07-10</td>\n",
              "      <td>855.0</td>\n",
              "      <td>0.0</td>\n",
              "      <td>52.0</td>\n",
              "      <td>0.0</td>\n",
              "      <td>11065.812</td>\n",
              "      <td>0.000</td>\n",
              "      <td>673.008</td>\n",
              "      <td>0.000</td>\n",
              "      <td>NaN</td>\n",
              "      <td>NaN</td>\n",
              "      <td>NaN</td>\n",
              "      <td>NaN</td>\n",
              "      <td>NaN</td>\n",
              "      <td>NaN</td>\n",
              "      <td>NaN</td>\n",
              "      <td>41.67</td>\n",
              "      <td>77265.0</td>\n",
              "      <td>163.755</td>\n",
              "      <td>NaN</td>\n",
              "      <td>NaN</td>\n",
              "      <td>NaN</td>\n",
              "      <td>NaN</td>\n",
              "      <td>NaN</td>\n",
              "      <td>109.135</td>\n",
              "      <td>7.97</td>\n",
              "      <td>29.0</td>\n",
              "      <td>37.8</td>\n",
              "      <td>NaN</td>\n",
              "      <td>NaN</td>\n",
              "      <td>83.73</td>\n",
              "    </tr>\n",
              "    <tr>\n",
              "      <th>768</th>\n",
              "      <td>AGO</td>\n",
              "      <td>Africa</td>\n",
              "      <td>Angola</td>\n",
              "      <td>2020-07-10</td>\n",
              "      <td>396.0</td>\n",
              "      <td>10.0</td>\n",
              "      <td>22.0</td>\n",
              "      <td>1.0</td>\n",
              "      <td>12.049</td>\n",
              "      <td>0.304</td>\n",
              "      <td>0.669</td>\n",
              "      <td>0.030</td>\n",
              "      <td>NaN</td>\n",
              "      <td>NaN</td>\n",
              "      <td>NaN</td>\n",
              "      <td>NaN</td>\n",
              "      <td>NaN</td>\n",
              "      <td>NaN</td>\n",
              "      <td>NaN</td>\n",
              "      <td>76.39</td>\n",
              "      <td>32866268.0</td>\n",
              "      <td>23.890</td>\n",
              "      <td>16.8</td>\n",
              "      <td>2.405</td>\n",
              "      <td>1.362</td>\n",
              "      <td>5819.495</td>\n",
              "      <td>NaN</td>\n",
              "      <td>276.045</td>\n",
              "      <td>3.94</td>\n",
              "      <td>NaN</td>\n",
              "      <td>NaN</td>\n",
              "      <td>26.664</td>\n",
              "      <td>NaN</td>\n",
              "      <td>61.15</td>\n",
              "    </tr>\n",
              "  </tbody>\n",
              "</table>\n",
              "</div>"
            ],
            "text/plain": [
              "    iso_code continent  ... hospital_beds_per_thousand life_expectancy\n",
              "182      AFG      Asia  ...                       0.50           64.83\n",
              "317      ALB    Europe  ...                       2.89           78.57\n",
              "516      DZA    Africa  ...                       1.90           76.88\n",
              "646      AND    Europe  ...                        NaN           83.73\n",
              "768      AGO    Africa  ...                        NaN           61.15\n",
              "\n",
              "[5 rows x 34 columns]"
            ]
          },
          "metadata": {
            "tags": []
          },
          "execution_count": 17
        }
      ]
    },
    {
      "cell_type": "code",
      "metadata": {
        "id": "N3-OvcPaw1Dk",
        "colab_type": "code",
        "colab": {
          "base_uri": "https://localhost:8080/",
          "height": 204
        },
        "outputId": "262e1613-12ae-491e-8a30-ae0f8f3f83e8"
      },
      "source": [
        "#remove nans\n",
        "#percent nulls\n",
        "df[\"location\"].drop_duplicates()\n",
        "workdata=df.drop(columns=['continent','date','iso_code','total_tests', 'new_tests','total_tests_per_thousand','new_deaths','new_cases','new_deaths_per_million','new_tests_per_thousand','new_tests_smoothed','new_tests_smoothed_per_thousand','tests_units','extreme_poverty','handwashing_facilities','stringency_index','female_smokers','male_smokers','hospital_beds_per_thousand','diabetes_prevalence'])\n",
        "workdata = workdata[workdata.location != 'World']\n",
        "#(100*workdata.isnull().sum())/len(workdata)\n",
        "workdata\n",
        "workdata.isnull().sum(axis=1).tolist()\n",
        "##remove all null rows? - only 17 remaining\n",
        "newdata=workdata[workdata.isnull().sum(axis=1) == 0]\n",
        "len(newdata)\n",
        "newdata.head()"
      ],
      "execution_count": 9,
      "outputs": [
        {
          "output_type": "execute_result",
          "data": {
            "text/html": [
              "<div>\n",
              "<style scoped>\n",
              "    .dataframe tbody tr th:only-of-type {\n",
              "        vertical-align: middle;\n",
              "    }\n",
              "\n",
              "    .dataframe tbody tr th {\n",
              "        vertical-align: top;\n",
              "    }\n",
              "\n",
              "    .dataframe thead th {\n",
              "        text-align: right;\n",
              "    }\n",
              "</style>\n",
              "<table border=\"1\" class=\"dataframe\">\n",
              "  <thead>\n",
              "    <tr style=\"text-align: right;\">\n",
              "      <th></th>\n",
              "      <th>location</th>\n",
              "      <th>total_cases</th>\n",
              "      <th>total_deaths</th>\n",
              "      <th>total_cases_per_million</th>\n",
              "      <th>new_cases_per_million</th>\n",
              "      <th>total_deaths_per_million</th>\n",
              "      <th>population</th>\n",
              "      <th>population_density</th>\n",
              "      <th>median_age</th>\n",
              "      <th>aged_65_older</th>\n",
              "      <th>aged_70_older</th>\n",
              "      <th>gdp_per_capita</th>\n",
              "      <th>cardiovasc_death_rate</th>\n",
              "      <th>life_expectancy</th>\n",
              "    </tr>\n",
              "  </thead>\n",
              "  <tbody>\n",
              "    <tr>\n",
              "      <th>182</th>\n",
              "      <td>Afghanistan</td>\n",
              "      <td>33908.0</td>\n",
              "      <td>957.0</td>\n",
              "      <td>871.036</td>\n",
              "      <td>6.550</td>\n",
              "      <td>24.584</td>\n",
              "      <td>38928341.0</td>\n",
              "      <td>54.422</td>\n",
              "      <td>18.6</td>\n",
              "      <td>2.581</td>\n",
              "      <td>1.337</td>\n",
              "      <td>1803.987</td>\n",
              "      <td>597.029</td>\n",
              "      <td>64.83</td>\n",
              "    </tr>\n",
              "    <tr>\n",
              "      <th>317</th>\n",
              "      <td>Albania</td>\n",
              "      <td>3188.0</td>\n",
              "      <td>83.0</td>\n",
              "      <td>1107.791</td>\n",
              "      <td>28.494</td>\n",
              "      <td>28.841</td>\n",
              "      <td>2877800.0</td>\n",
              "      <td>104.871</td>\n",
              "      <td>38.0</td>\n",
              "      <td>13.188</td>\n",
              "      <td>8.643</td>\n",
              "      <td>11803.431</td>\n",
              "      <td>304.195</td>\n",
              "      <td>78.57</td>\n",
              "    </tr>\n",
              "    <tr>\n",
              "      <th>516</th>\n",
              "      <td>Algeria</td>\n",
              "      <td>17808.0</td>\n",
              "      <td>988.0</td>\n",
              "      <td>406.102</td>\n",
              "      <td>10.490</td>\n",
              "      <td>22.531</td>\n",
              "      <td>43851043.0</td>\n",
              "      <td>17.348</td>\n",
              "      <td>29.1</td>\n",
              "      <td>6.211</td>\n",
              "      <td>3.857</td>\n",
              "      <td>13913.839</td>\n",
              "      <td>278.364</td>\n",
              "      <td>76.88</td>\n",
              "    </tr>\n",
              "    <tr>\n",
              "      <th>768</th>\n",
              "      <td>Angola</td>\n",
              "      <td>396.0</td>\n",
              "      <td>22.0</td>\n",
              "      <td>12.049</td>\n",
              "      <td>0.304</td>\n",
              "      <td>0.669</td>\n",
              "      <td>32866268.0</td>\n",
              "      <td>23.890</td>\n",
              "      <td>16.8</td>\n",
              "      <td>2.405</td>\n",
              "      <td>1.362</td>\n",
              "      <td>5819.495</td>\n",
              "      <td>276.045</td>\n",
              "      <td>61.15</td>\n",
              "    </tr>\n",
              "    <tr>\n",
              "      <th>1009</th>\n",
              "      <td>Antigua and Barbuda</td>\n",
              "      <td>73.0</td>\n",
              "      <td>3.0</td>\n",
              "      <td>745.446</td>\n",
              "      <td>0.000</td>\n",
              "      <td>30.635</td>\n",
              "      <td>97928.0</td>\n",
              "      <td>231.845</td>\n",
              "      <td>32.1</td>\n",
              "      <td>6.933</td>\n",
              "      <td>4.631</td>\n",
              "      <td>21490.943</td>\n",
              "      <td>191.511</td>\n",
              "      <td>77.02</td>\n",
              "    </tr>\n",
              "  </tbody>\n",
              "</table>\n",
              "</div>"
            ],
            "text/plain": [
              "                 location  total_cases  ...  cardiovasc_death_rate  life_expectancy\n",
              "182           Afghanistan      33908.0  ...                597.029            64.83\n",
              "317               Albania       3188.0  ...                304.195            78.57\n",
              "516               Algeria      17808.0  ...                278.364            76.88\n",
              "768                Angola        396.0  ...                276.045            61.15\n",
              "1009  Antigua and Barbuda         73.0  ...                191.511            77.02\n",
              "\n",
              "[5 rows x 14 columns]"
            ]
          },
          "metadata": {
            "tags": []
          },
          "execution_count": 9
        }
      ]
    },
    {
      "cell_type": "code",
      "metadata": {
        "id": "7mLrNR8-3Zdi",
        "colab_type": "code",
        "colab": {}
      },
      "source": [
        "from sklearn.model_selection import train_test_split\n",
        "#newdata.columns\n",
        "#'location', 'total_cases', 'new_cases', 'total_deaths', 'total_cases_per_million', 'new_cases_per_million','total_deaths_per_million', 'new_deaths_per_million', 'population','population_density', 'median_age', 'aged_65_older', 'aged_70_older',\n",
        "       #'gdp_per_capita', 'cardiovasc_death_rate', 'life_expectancy']\n",
        "\n",
        "#targets - total_deaths\n",
        "vars=newdata.drop(columns=['total_deaths','total_deaths_per_million','location'])\n",
        "targs=newdata[['total_deaths','total_deaths_per_million']]\n",
        "trainx, testx, trainy, testy = train_test_split(vars, targs, test_size=0.2, random_state=0)\n"
      ],
      "execution_count": 18,
      "outputs": []
    },
    {
      "cell_type": "code",
      "metadata": {
        "id": "RvDUoZCPnogo",
        "colab_type": "code",
        "colab": {
          "base_uri": "https://localhost:8080/",
          "height": 347
        },
        "outputId": "8f31b71a-7315-410b-b9dc-c198308a08c4"
      },
      "source": [
        "from sklearn.preprocessing import StandardScaler\n",
        "from sklearn.decomposition import PCA\n",
        "from sklearn import preprocessing\n",
        "import matplotlib.pyplot as plt\n",
        "scaler = StandardScaler() \n",
        "trainx_scale = scaler.fit_transform(trainx)\n",
        "testx_scale = scaler.fit_transform(testx)\n",
        "\n",
        "pca = PCA(.95)\n",
        "pca.fit(trainx_scale)\n",
        "\n",
        "print(pca.explained_variance_ratio_)\n",
        "#plt.bar(np.arange(11), pca.explained_variance_ratio_[0:55])\n",
        "\n",
        "print(np.cumsum(pca.explained_variance_ratio_))\n",
        "plt.plot(np.cumsum(pca.explained_variance_ratio_))\n",
        "plt.xlabel('number of components')\n",
        "plt.ylabel('cumulative explained variance');"
      ],
      "execution_count": 20,
      "outputs": [
        {
          "output_type": "stream",
          "text": [
            "[0.39394641 0.19073313 0.12030418 0.09179114 0.07059747 0.05309966\n",
            " 0.0398414 ]\n",
            "[0.39394641 0.58467953 0.70498371 0.79677485 0.86737232 0.92047198\n",
            " 0.96031338]\n"
          ],
          "name": "stdout"
        },
        {
          "output_type": "display_data",
          "data": {
            "image/png": "[encoded data removed]",
            "text/plain": [
              "<Figure size 432x288 with 1 Axes>"
            ]
          },
          "metadata": {
            "tags": [],
            "needs_background": "light"
          }
        }
      ]
    },
    {
      "cell_type": "code",
      "metadata": {
        "id": "6R06gkPaol_C",
        "colab_type": "code",
        "colab": {}
      },
      "source": [
        "train_fit = pca.transform(trainx_scale)\n",
        "test_fit = pca.transform(testx_scale)"
      ],
      "execution_count": 21,
      "outputs": []
    },
    {
      "cell_type": "code",
      "metadata": {
        "id": "srYJNkdQtx6s",
        "colab_type": "code",
        "colab": {
          "base_uri": "https://localhost:8080/",
          "height": 34
        },
        "outputId": "12a575ce-799b-4637-865c-568f8628a979"
      },
      "source": [
        "from sklearn.linear_model import LinearRegression\n",
        "from sklearn import metrics\n",
        "\n",
        "regressor = LinearRegression() \n",
        "regressor.fit(train_fit, trainy['total_deaths_per_million'])"
      ],
      "execution_count": 22,
      "outputs": [
        {
          "output_type": "execute_result",
          "data": {
            "text/plain": [
              "LinearRegression(copy_X=True, fit_intercept=True, n_jobs=None, normalize=False)"
            ]
          },
          "metadata": {
            "tags": []
          },
          "execution_count": 22
        }
      ]
    },
    {
      "cell_type": "code",
      "metadata": {
        "id": "DEO3lKfPt-ND",
        "colab_type": "code",
        "colab": {
          "base_uri": "https://localhost:8080/",
          "height": 34
        },
        "outputId": "295848eb-5ae9-42f4-d594-f51213b1013f"
      },
      "source": [
        "yhat=regressor.predict(test_fit)\n",
        "regressor.score(test_fit, testy['total_deaths_per_million'])\n",
        "#logisticRegr.score(testy['total_deaths'],yhat)\n",
        "  \n",
        "#log_loss(testy['total_deaths'],yhat)"
      ],
      "execution_count": 24,
      "outputs": [
        {
          "output_type": "execute_result",
          "data": {
            "text/plain": [
              "0.47524078100362305"
            ]
          },
          "metadata": {
            "tags": []
          },
          "execution_count": 24
        }
      ]
    },
    {
      "cell_type": "code",
      "metadata": {
        "id": "1KJSB7Y_ucuF",
        "colab_type": "code",
        "colab": {
          "base_uri": "https://localhost:8080/",
          "height": 68
        },
        "outputId": "6bca55bf-60a0-4902-b0e7-cea84a5b269f"
      },
      "source": [
        "print('Mean Absolute Error:', metrics.mean_absolute_error(testy['total_deaths_per_million'], yhat))  \n",
        "print('Mean Squared Error:', metrics.mean_squared_error(testy['total_deaths_per_million'], yhat))  \n",
        "print('Root Mean Squared Error:', np.sqrt(metrics.mean_squared_error(testy['total_deaths_per_million'], yhat)))"
      ],
      "execution_count": 25,
      "outputs": [
        {
          "output_type": "stream",
          "text": [
            "Mean Absolute Error: 67.38036640004478\n",
            "Mean Squared Error: 10294.11496668269\n",
            "Root Mean Squared Error: 101.45991803013982\n"
          ],
          "name": "stdout"
        }
      ]
    }
  ]
}